{
 "cells": [
  {
   "cell_type": "code",
   "execution_count": null,
   "metadata": {
    "collapsed": true
   },
   "outputs": [],
   "source": [
    "import pandas as pd\n",
    "import numpy as np\n",
    "import math as math"
   ]
  },
  {
   "cell_type": "code",
   "execution_count": null,
   "metadata": {
    "collapsed": true
   },
   "outputs": [],
   "source": [
    "from plotly.offline import plot\n",
    "from plotly.graph_objs import *"
   ]
  },
  {
   "cell_type": "code",
   "execution_count": null,
   "metadata": {
    "collapsed": true
   },
   "outputs": [],
   "source": [
    "import statsmodels.api as sm\n",
    "\n",
    "#from statsmodels.graphics.api import qqplot\n",
    "\n",
    "#from scipy import stats\n",
    "\n",
    "\n",
    "#from sklearn import linear_model\n",
    "#from sklearn.cross_validation import train_test_split\n",
    "#from sklearn.linear_model import LinearRegression"
   ]
  },
  {
   "cell_type": "code",
   "execution_count": null,
   "metadata": {
    "collapsed": false
   },
   "outputs": [],
   "source": [
    "%matplotlib inline\n",
    "import matplotlib.pyplot as plt"
   ]
  },
  {
   "cell_type": "code",
   "execution_count": null,
   "metadata": {
    "collapsed": true
   },
   "outputs": [],
   "source": [
    "NSize=963"
   ]
  },
  {
   "cell_type": "code",
   "execution_count": null,
   "metadata": {
    "collapsed": true
   },
   "outputs": [],
   "source": [
    "def read_data():\n",
    "    sales=pd.read_csv(\"G:\\\\TianChi\\\\logistic\\\\CAINIAO\\\\data\\\\item_feature2.csv\",names=['date','item_id','cate_id','cate_level_id','brand_id',\\\n",
    "                                                                            'supplier_id','pv_ipv','pv_uv','cart_ipv','cart_uv','collect_uv',\\\n",
    "                                                                            'num_gmv','amt_gmv','qty_gmv','unum_gmv','amt_alipay',\\\n",
    "                                                                            'num_alipay','qty_alipay','unum_alipay','ztc_pv_ipv',\\\n",
    "                                                                            'tbk_pv_ipv','ss_pv_ipv','jhs_pv_ipv','ztc_pv_uv',\\\n",
    "                                                                            'tbk_pv_uv','ss_pv_uv','jhs_pv_uv','num_alipay_njhs',\\\n",
    "                                                                            'amt_alipay_njhs','qty_alipay_njhs','unum_alipay_njhs'],\\\n",
    "                                                                            header=None,index_col=0,parse_dates=['date'])\n",
    "    \n",
    "    sales_info=sales[['item_id','cate_id','collect_uv','qty_alipay_njhs','num_alipay_njhs']]\n",
    "    \n",
    "    return sales_info\n",
    "\n",
    "\n",
    "\n",
    "def read_data_district():\n",
    "    sales=pd.read_csv(\"G:\\\\TianChi\\\\logistic\\\\CAINIAO\\\\data\\\\item_store_feature2.csv\",names=['date','item_id','store_code','cate_id','cate_level_id','brand_id',\\\n",
    "                                                                            'supplier_id','pv_ipv','pv_uv','cart_ipv','cart_uv','collect_uv',\\\n",
    "                                                                            'num_gmv','amt_gmv','qty_gmv','unum_gmv','amt_alipay',\\\n",
    "                                                                            'num_alipay','qty_alipay','unum_alipay','ztc_pv_ipv',\\\n",
    "                                                                            'tbk_pv_ipv','ss_pv_ipv','jhs_pv_ipv','ztc_pv_uv',\\\n",
    "                                                                            'tbk_pv_uv','ss_pv_uv','jhs_pv_uv','num_alipay_njhs',\\\n",
    "                                                                            'amt_alipay_njhs','qty_alipay_njhs','unum_alipay_njhs'],\\\n",
    "                                                                            header=None,index_col=0,parse_dates=['date'])\n",
    "    \n",
    "    sales_info=sales[['item_id','store_code','cate_id','collect_uv','qty_alipay_njhs','num_alipay_njhs']]\n",
    "    \n",
    "    return sales_info\n",
    "\n",
    "\n",
    "def data_ETL_district(sales_info):\n",
    "    grouper=pd.TimeGrouper(\"14D\")\n",
    "    category_sum=sales_info[sales_info.index>'2014-10-19'].groupby([grouper,'store_code','item_id']).sum()[['qty_alipay_njhs']]\n",
    "    \n",
    "    res_data=category_sum.unstack().fillna(value=0)\n",
    "    return res_data\n",
    "\n",
    "\n",
    "def select_store_dat(index_code,info_dat):\n",
    "    \n",
    "    query_snt=\"store_code==%d\"%index_code\n",
    "    \n",
    "    return info_dat.query(query_snt).reset_index(level=1,drop=True)\n",
    "\n",
    "\n",
    "def data_ETL(sales_info):\n",
    "    \n",
    "        \n",
    "    #groupby_id=sales_info.groupby('item_id')\n",
    "    #groupby_id.size()\n",
    "    #total_nums=groupby_id.sum()\n",
    "    #total_nums.sort_values(by='num_alipay_njhs').tail()[['num_alipay_njhs']]\n",
    "    \n",
    "    grouper=pd.TimeGrouper(\"14D\")\n",
    "    category_sum=sales_info[sales_info.index>'2014-10-19'].groupby([grouper,'item_id']).sum()[['qty_alipay_njhs']]\n",
    "    \n",
    "    res_data=category_sum.unstack().fillna(value=0)\n",
    "    #res_data[res_data<1]=0\n",
    "    #res_data.apply(np.floor)\n",
    "    return res_data\n",
    "    #mplt.legend([\"\"], loc=9,ncol=4)"
   ]
  },
  {
   "cell_type": "code",
   "execution_count": null,
   "metadata": {
    "collapsed": false
   },
   "outputs": [],
   "source": [
    "def predict_numsum(num_item,src_data):\n",
    "    \n",
    "    #'series' in the 'log' arithmetic cannot be ZERO !!!          \n",
    "    # transform the original data series to be stable using method 'log' and 'difference'\n",
    "    df=np.log(src_data.iloc[:,num_item]+1)\n",
    "    \n",
    "    #df=src_data.iloc[:,num_item]\n",
    "    \n",
    "    df_diff1=df-df.shift(1)\n",
    "    df_diff2=df_diff1.dropna()\n",
    "    \n",
    "    diff2_count=df_diff2[df_diff2.values==0].count()\n",
    "    \n",
    "    if diff2_count>21:\n",
    "       \n",
    "        return src_data.columns[num_item][1],src_data.iloc[30,num_item]\n",
    "    \n",
    "    p=0\n",
    "    q=1\n",
    "    sparams=[0.1]*(p+q)\n",
    "\n",
    "    try:\n",
    "        arma_diff = sm.tsa.ARMA(df_diff2, (p,q)).fit(start_params = sparams,\\\n",
    "                                                     transparams=True,method='css',\\\n",
    "                                                     trend='nc',disp=-1)\n",
    "    except Exception as err:\n",
    "        print err\n",
    "        print \"fit error happened num_item:%d\"%num_item     \n",
    "    \n",
    "    \n",
    "    predict_sums = arma_diff.predict('2015-12-28', '2015-12-28', dynamic=True)\n",
    "    res_pow=predict_sums['2015-12-28']+df['2015-12-14']   \n",
    "    num_sum=math.exp(res_pow)-1\n",
    "\n",
    "    #fig, ax = plt.subplots(figsize=(12, 8))\n",
    "    #ax = df_diff2.plot(ax=ax)\n",
    "    #fig = arma_diff.plot_predict('2015-12-28','2015-12-28', dynamic=True, ax=ax, plot_insample=False)    \n",
    "    \n",
    "    return src_data.columns[num_item][1],num_sum"
   ]
  },
  {
   "cell_type": "code",
   "execution_count": null,
   "metadata": {
    "collapsed": true
   },
   "outputs": [],
   "source": [
    "def predict_store_numsum(store_code,num_item,src_data):\n",
    "    \n",
    "    #'series' in the 'log' arithmetic cannot be ZERO !!!          \n",
    "    df=np.log(src_data.iloc[:,num_item]+1)\n",
    "    \n",
    "    #df=src_data.iloc[:,num_item]\n",
    "    \n",
    "    df_diff1=df-df.shift(1)\n",
    "    df_diff2=df_diff1.dropna()\n",
    "    \n",
    "    diff2_count=df_diff2[df_diff2.values==0].count()\n",
    "    \n",
    "    if diff2_count>21:\n",
    "        return src_data.columns[num_item][1],src_data.iloc[30,num_item]\n",
    "\n",
    "    p=0\n",
    "    q=1\n",
    "    sparams=[0.1]*(p+q)\n",
    "\n",
    "    try:\n",
    "        arma_diff = sm.tsa.ARMA(df_diff2, (p,q)).fit(start_params = sparams,\\\n",
    "                                                     transparams=True,method='css',\\\n",
    "                                                     trend='nc',disp=-1)\n",
    "    except Exception as err:\n",
    "        print err\n",
    "        print \"fit error happened code:%d,num_item:,%d\"%(store_code,num_item)\n",
    "    \n",
    "    \n",
    "    predict_sums = arma_diff.predict('2015-12-28', '2015-12-28', dynamic=True)\n",
    "    \n",
    "    res_pow=predict_sums['2015-12-28']+df['2015-12-14']   \n",
    "    num_sum=math.exp(res_pow)-1\n",
    "    #fig, ax = plt.subplots(figsize=(12, 8))\n",
    "    #ax = df_diff2.plot(ax=ax)\n",
    "    #fig = arma_diff.plot_predict('2015-12-28','2015-12-28', dynamic=True, ax=ax, plot_insample=False)    \n",
    "    \n",
    "    return src_data.columns[num_item][1],num_sum\n",
    "    "
   ]
  },
  {
   "cell_type": "code",
   "execution_count": null,
   "metadata": {
    "collapsed": true
   },
   "outputs": [],
   "source": [
    "def predict_store_id(st_code,src_data):   \n",
    "    \n",
    "    res=np.arange(NSize*2,dtype=np.int32).reshape(NSize,2)    \n",
    "    for icount in range(0,NSize):\n",
    "        res[icount,0],res[icount,1]=predict_store_numsum(st_code,icount,src_data)\n",
    "      \n",
    "    res_df=pd.DataFrame(res,columns=['item_id','target'])    \n",
    "    return res_df\n",
    "\n",
    "def predict_all_id(src_data):   \n",
    "    \n",
    "    res=np.arange(NSize*2,dtype=np.int32).reshape(NSize,2)    \n",
    "    for icount in range(0,NSize):\n",
    "        res[icount,0],res[icount,1]=predict_numsum(icount,src_data)\n",
    "      \n",
    "    res_df=pd.DataFrame(res,columns=['item_id','target'])    \n",
    "    return res_df\n",
    "\n",
    "def predict_one(icount,src_data):\n",
    "    res=np.arange(2,dtype=np.int32).reshape(1,2)    \n",
    "\n",
    "    res[0,0],res[0,1]=predict_numsum(icount,src_data)\n",
    "\n",
    "    res_df=pd.DataFrame(res,columns=['item_id','target'])    \n",
    "    return res_df"
   ]
  },
  {
   "cell_type": "code",
   "execution_count": null,
   "metadata": {
    "collapsed": true
   },
   "outputs": [],
   "source": [
    "def data_ETL4avg(sales_info):\n",
    "    \n",
    "    grouper=pd.TimeGrouper(\"14D\")\n",
    "    category_sum=sales_info[sales_info.index>'2014-12-13'].groupby([grouper,'item_id']).sum()[['qty_alipay_njhs']]\n",
    "    \n",
    "    res_data=category_sum.unstack().fillna(value=0)\n",
    "    \n",
    "    return res_data"
   ]
  },
  {
   "cell_type": "code",
   "execution_count": null,
   "metadata": {
    "collapsed": true
   },
   "outputs": [],
   "source": [
    "csv_data=read_data()\n",
    "res_cate=data_ETL(csv_data) "
   ]
  },
  {
   "cell_type": "code",
   "execution_count": null,
   "metadata": {
    "collapsed": false
   },
   "outputs": [],
   "source": [
    "#所有商品id的销量随时间的变化趋势\n",
    "total_trend=res_cate.T.reset_index(drop=True).T\n",
    "total_trend.plot(title=\"\",figsize=(15, 9),legend=None)"
   ]
  },
  {
   "cell_type": "code",
   "execution_count": null,
   "metadata": {
    "collapsed": false
   },
   "outputs": [],
   "source": [
    "'''\n",
    "temp_plot=res_cate.iloc[:,122:123].stack().reset_index(drop=True)\n",
    "print temp_plot\n",
    "\n",
    "temp_res=predict_one(122,res_cate)\n",
    "print temp_res\n",
    "\n",
    "temp_plot=temp_plot.append([{'qty_alipay_njhs':temp_res['target'][0]}],ignore_index=True)\n",
    "\n",
    "temp_plot.plot(title=\"\",figsize=(9, 7),legend=None)\n",
    "'''"
   ]
  },
  {
   "cell_type": "code",
   "execution_count": null,
   "metadata": {
    "collapsed": false
   },
   "outputs": [],
   "source": [
    "res_target=predict_all_id(res_cate)\n",
    "\n",
    "res_target[res_target<0]=0"
   ]
  },
  {
   "cell_type": "code",
   "execution_count": null,
   "metadata": {
    "collapsed": false
   },
   "outputs": [],
   "source": [
    "#将预测结果数量分布与上一期实际数量做对比\n",
    "res_tg=res_target\n",
    "\n",
    "temp_plot=res_cate.iloc[29:30,:].stack().reset_index(drop=True)\n",
    "res_tg=pd.concat([res_tg, temp_plot], axis=1)\n",
    "\n",
    "res_tg[['target','qty_alipay_njhs']].plot(title=\"\",figsize=(20, 7))"
   ]
  },
  {
   "cell_type": "code",
   "execution_count": null,
   "metadata": {
    "collapsed": false
   },
   "outputs": [],
   "source": [
    "plot([Bar(x=res_tg.index, y=res_tg.target),Bar(x=res_tg.index, y=res_tg.qty_alipay_njhs)])"
   ]
  },
  {
   "cell_type": "code",
   "execution_count": null,
   "metadata": {
    "collapsed": false
   },
   "outputs": [],
   "source": [
    "#验证销量预测是否服从指数衰减，或者长尾定律\n",
    "#res_tg[['target','qty_alipay_njhs']].iloc[:,0:1].sort_values(by='target',ascending=False).reset_index(drop=True).plot(title=\"\",figsize=(12, 7))"
   ]
  },
  {
   "cell_type": "code",
   "execution_count": null,
   "metadata": {
    "collapsed": false
   },
   "outputs": [],
   "source": [
    "res_target['code']=\"all\""
   ]
  },
  {
   "cell_type": "code",
   "execution_count": null,
   "metadata": {
    "collapsed": true
   },
   "outputs": [],
   "source": [
    "store_data=read_data_district()\n",
    "store_dat=data_ETL_district(store_data)"
   ]
  },
  {
   "cell_type": "code",
   "execution_count": null,
   "metadata": {
    "collapsed": false
   },
   "outputs": [],
   "source": [
    "for i in range(1,6):\n",
    "    temp_dat=select_store_dat(i,store_dat)\n",
    "\n",
    "    store_target=predict_store_id(i,temp_dat)\n",
    "    \n",
    "    store_target[store_target<0]=0\n",
    "    \n",
    "    code_name=\"%d\"%i\n",
    "    store_target['code']=code_name\n",
    "    \n",
    "    res_target=res_target.append(store_target)\n",
    "\n",
    "res_target[['item_id','code','target']].to_csv(\"g:\\\\2tt9_arma01reform.csv\",header=False,index=False)\n"
   ]
  }
 ],
 "metadata": {
  "kernelspec": {
   "display_name": "Python 2",
   "language": "python",
   "name": "python2"
  },
  "language_info": {
   "codemirror_mode": {
    "name": "ipython",
    "version": 2
   },
   "file_extension": ".py",
   "mimetype": "text/x-python",
   "name": "python",
   "nbconvert_exporter": "python",
   "pygments_lexer": "ipython2",
   "version": "2.7.11"
  }
 },
 "nbformat": 4,
 "nbformat_minor": 0
}
