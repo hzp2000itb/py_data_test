{
 "cells": [
  {
   "cell_type": "code",
   "execution_count": null,
   "metadata": {
    "collapsed": true
   },
   "outputs": [],
   "source": [
    "from math import *"
   ]
  },
  {
   "cell_type": "code",
   "execution_count": null,
   "metadata": {
    "collapsed": true
   },
   "outputs": [],
   "source": [
    "import pandas as pd\n",
    "import numpy as np"
   ]
  },
  {
   "cell_type": "code",
   "execution_count": null,
   "metadata": {
    "collapsed": true
   },
   "outputs": [],
   "source": [
    "import scipy as scp"
   ]
  },
  {
   "cell_type": "code",
   "execution_count": null,
   "metadata": {
    "collapsed": true
   },
   "outputs": [],
   "source": [
    "%matplotlib inline\n",
    "import matplotlib.pylab as plt"
   ]
  },
  {
   "cell_type": "code",
   "execution_count": null,
   "metadata": {
    "collapsed": true
   },
   "outputs": [],
   "source": [
    "def sigmoid(z):\n",
    "    return (1/(1+np.exp(-z)))"
   ]
  },
  {
   "cell_type": "code",
   "execution_count": null,
   "metadata": {
    "collapsed": true
   },
   "outputs": [],
   "source": [
    "def derivative_sigmoid(sig):\n",
    "    return sig*(1.0-sig)"
   ]
  },
  {
   "cell_type": "code",
   "execution_count": null,
   "metadata": {
    "collapsed": true
   },
   "outputs": [],
   "source": [
    "def tanh(z):\n",
    "    return np.tanh(z)"
   ]
  },
  {
   "cell_type": "code",
   "execution_count": null,
   "metadata": {
    "collapsed": true
   },
   "outputs": [],
   "source": [
    "def derivative_tanh(tanh):\n",
    "    return 1.0-tanh**2"
   ]
  },
  {
   "cell_type": "code",
   "execution_count": null,
   "metadata": {
    "collapsed": true
   },
   "outputs": [],
   "source": [
    "#class ANN_BASE:\n",
    "#    def __init__(self)\n",
    "Nums_Layer = 3\n",
    "\n",
    "Nodes_In_Layer  = 6\n",
    "\n",
    "Nodes_Hidden_Layer = 4\n",
    "\n",
    "Nodes_Out_Layer = 3\n"
   ]
  },
  {
   "cell_type": "code",
   "execution_count": null,
   "metadata": {
    "collapsed": false
   },
   "outputs": [],
   "source": [
    "class Layer_ANN:\n",
    "    \n",
    "    \n",
    "    def __init__(self,N_nodes,V_nodes,weight,isFinal = False,isInput = False):\n",
    "        \n",
    "        self.Nums_Nodes = N_nodes\n",
    "        \n",
    "        self.In_Value = V_nodes\n",
    "\n",
    "        self.isInput = isInput\n",
    "        \n",
    "        if isInput:\n",
    "            self.Out_Value = V_nodes\n",
    "        \n",
    "        self.Bias_Nodes = np.ones(N_nodes).reshape(1,N_nodes)\n",
    "        \n",
    "        self.weight = weight\n",
    "        \n",
    "        self.isFinal = isFinal\n",
    "        \n",
    "        \n",
    "    \n",
    "    def set_nodes_values(self,V_nodes):\n",
    "        self.In_Value = V_nodes\n",
    "        \n",
    "    def set_bias_nodes(self,bias_nodes):\n",
    "        self.Bias_Nodes = bias_nodes\n",
    "        \n",
    "    def get_nodes_values(self):\n",
    "        return self.Value_Nodes\n",
    "    \n",
    "    def get_bias_nodes(self):\n",
    "        return self.Bias_Nodes\n",
    "    \n",
    "    def set_link_weight(self,weight):\n",
    "        self.weight = weight\n",
    "        \n",
    "    def get_link_weight(self):\n",
    "        return self.Link_Weight\n",
    "    \n",
    "    def set_target(self,target):\n",
    "        \n",
    "        if self.isFinal:\n",
    "            self.Target = target\n",
    "        \n",
    "    \n",
    "    def prop_forword_layer(self,next_layer):\n",
    "    \n",
    "        \n",
    "        next_layer.In_Value = np.dot(self.Out_Value,next_layer.weight) + next_layer.Bias_Nodes\n",
    "        \n",
    "        next_layer.Out_Value = sigmoid(next_layer.In_Value)\n",
    "        \n",
    "        return next_layer.In_Value\n",
    "        \n",
    "    \n",
    "    def revise_backword_weight(self,previous_layer):\n",
    "    \n",
    "        n_rate = 0.001\n",
    "        #m_rate = 0.001\n",
    "\n",
    "        if self.isInput:\n",
    "            \n",
    "            return\n",
    "        \n",
    "        elif self.isFinal:\n",
    "            \n",
    "            self.error = self.Target - self.Out_Value\n",
    "            \n",
    "            delta_WGT = n_rate*np.dot(derivative_sigmoid(previous_layer.Out_Value.T),self.error)\n",
    "            \n",
    "            print delta_WGT\n",
    "            \n",
    "            previous_layer.error = np.dot(self.error,self.weight.T)\n",
    "\n",
    "            \n",
    "            self.weight =self.weight + delta_WGT\n",
    "            \n",
    "            \n",
    "            print previous_layer.error\n",
    "            \n",
    "        else: \n",
    "            \n",
    "            delta_WGT = n_rate*np.dot(derivative_sigmoid(previous_layer.Out_Value.T),self.error)\n",
    "                                                \n",
    "            print delta_WGT\n",
    "            \n",
    "            previous_layer.error = np.dot(self.error,self.weight.T)\n",
    "\n",
    "            \n",
    "            self.weight = self.weight + delta_WGT\n",
    "            \n",
    "            \n",
    "            print previous_layer.error\n",
    "            \n",
    "        return self.weight\n",
    "            "
   ]
  },
  {
   "cell_type": "code",
   "execution_count": null,
   "metadata": {
    "collapsed": false
   },
   "outputs": [],
   "source": [
    "lay1 = np.random.randn(1,6).reshape(1,6)\n",
    "\n",
    "lay2 = np.zeros(4).reshape(1,4)\n",
    "\n",
    "lay3 = np.zeros(3).reshape(1,3)"
   ]
  },
  {
   "cell_type": "code",
   "execution_count": null,
   "metadata": {
    "collapsed": false
   },
   "outputs": [],
   "source": [
    "weight2 = np.random.rand(6,4).reshape(6,4)\n",
    "\n",
    "weight3 = np.random.rand(4,3).reshape(4,3)"
   ]
  },
  {
   "cell_type": "code",
   "execution_count": null,
   "metadata": {
    "collapsed": true
   },
   "outputs": [],
   "source": [
    "L1 = Layer_ANN(6,lay1,1,isInput = True)\n",
    "\n",
    "L2 = Layer_ANN(4,lay2,weight2)\n",
    "\n",
    "L3 = Layer_ANN(3,lay3,weight3,isFinal = True)"
   ]
  },
  {
   "cell_type": "code",
   "execution_count": null,
   "metadata": {
    "collapsed": false
   },
   "outputs": [],
   "source": [
    "print L1.weight\n",
    "print L1.Out_Value"
   ]
  },
  {
   "cell_type": "code",
   "execution_count": null,
   "metadata": {
    "collapsed": false
   },
   "outputs": [],
   "source": [
    "lv2_in = L1.prop_forword_layer(L2)\n",
    "print L2.weight\n",
    "print lv2_in"
   ]
  },
  {
   "cell_type": "code",
   "execution_count": null,
   "metadata": {
    "collapsed": false
   },
   "outputs": [],
   "source": [
    "rw2"
   ]
  },
  {
   "cell_type": "code",
   "execution_count": null,
   "metadata": {
    "collapsed": false
   },
   "outputs": [],
   "source": [
    "lv3_in = L2.prop_forword_layer(L3)\n",
    "print L3.weight\n",
    "print lv3_in"
   ]
  },
  {
   "cell_type": "code",
   "execution_count": null,
   "metadata": {
    "collapsed": false
   },
   "outputs": [],
   "source": [
    "print L2.Out_Value\n",
    "print L3.Out_Value"
   ]
  },
  {
   "cell_type": "code",
   "execution_count": null,
   "metadata": {
    "collapsed": false
   },
   "outputs": [],
   "source": [
    "print L2.In_Value\n",
    "print L3.In_Value"
   ]
  },
  {
   "cell_type": "code",
   "execution_count": null,
   "metadata": {
    "collapsed": false
   },
   "outputs": [],
   "source": [
    "L3.set_target(np.ones(3).reshape(1,3))\n",
    "L3.Target"
   ]
  },
  {
   "cell_type": "code",
   "execution_count": null,
   "metadata": {
    "collapsed": false
   },
   "outputs": [],
   "source": [
    "rw3 = L3.revise_backword_weight(L2)\n",
    "rw3"
   ]
  },
  {
   "cell_type": "code",
   "execution_count": null,
   "metadata": {
    "collapsed": false
   },
   "outputs": [],
   "source": [
    "rw2 = L2.revise_backword_weight(L1)\n",
    "rw2"
   ]
  },
  {
   "cell_type": "code",
   "execution_count": null,
   "metadata": {
    "collapsed": true
   },
   "outputs": [],
   "source": []
  },
  {
   "cell_type": "code",
   "execution_count": null,
   "metadata": {
    "collapsed": false
   },
   "outputs": [],
   "source": [
    "x = np.linspace(-5,5,1000)\n",
    "\n",
    "y = derivative_sigmoid(sigmoid(x))"
   ]
  },
  {
   "cell_type": "code",
   "execution_count": null,
   "metadata": {
    "collapsed": true
   },
   "outputs": [],
   "source": []
  }
 ],
 "metadata": {
  "kernelspec": {
   "display_name": "Python 2",
   "language": "python",
   "name": "python2"
  },
  "language_info": {
   "codemirror_mode": {
    "name": "ipython",
    "version": 2
   },
   "file_extension": ".py",
   "mimetype": "text/x-python",
   "name": "python",
   "nbconvert_exporter": "python",
   "pygments_lexer": "ipython2",
   "version": "2.7.11"
  }
 },
 "nbformat": 4,
 "nbformat_minor": 0
}
