{
 "cells": [
  {
   "cell_type": "code",
   "execution_count": null,
   "metadata": {
    "collapsed": true
   },
   "outputs": [],
   "source": [
    "import pandas as pd\n",
    "import numpy as np\n",
    "import math as math"
   ]
  },
  {
   "cell_type": "code",
   "execution_count": null,
   "metadata": {
    "collapsed": true
   },
   "outputs": [],
   "source": [
    "#from plotly.offline import plot\n",
    "#from plotly.graph_objs import *"
   ]
  },
  {
   "cell_type": "code",
   "execution_count": null,
   "metadata": {
    "collapsed": true
   },
   "outputs": [],
   "source": [
    "#import statsmodels.api as sm\n",
    "\n",
    "#from statsmodels.graphics.api import qqplot\n",
    "\n",
    "#from scipy import stats\n",
    "\n",
    "#from sklearn import linear_model\n",
    "#from sklearn.cross_validation import train_test_split\n",
    "#from sklearn.linear_model import LinearRegression"
   ]
  },
  {
   "cell_type": "code",
   "execution_count": null,
   "metadata": {
    "collapsed": false
   },
   "outputs": [],
   "source": [
    "%matplotlib inline\n",
    "import matplotlib.pyplot as plt"
   ]
  },
  {
   "cell_type": "code",
   "execution_count": null,
   "metadata": {
    "collapsed": true
   },
   "outputs": [],
   "source": [
    "NSize=50"
   ]
  },
  {
   "cell_type": "code",
   "execution_count": null,
   "metadata": {
    "collapsed": true
   },
   "outputs": [],
   "source": [
    "def read_user_data():\n",
    "    user_action = pd.read_csv(\"G:\\\\TianChi\\\\music\\\\p2_mars_tianchi_user_actions.csv\",names=['user_id','song_id','gmt_create','action_type','Ds'],\\\n",
    "                                                                                  header=None,index_col=0)\n",
    "    #index_col=None\n",
    "    #parse_dates=['date'])\n",
    "    \n",
    "    #user_action = user_action[['user_id','song_id','gmt_create','action_type','Ds']]\n",
    "    \n",
    "    return user_action\n",
    "\n",
    "\n",
    "\n",
    "def read_singer_data():\n",
    "    singer_data = pd.read_csv(\"G:\\\\TianChi\\\\music\\\\p2_mars_tianchi_songs.csv\",names=['song_id','artist_id','publish_time',\\\n",
    "                                                                                  'song_init_plays','Language','Gender'],\\\n",
    "                                                                           header=None,index_col=0)\n",
    "    \n",
    "    #singer_data = singer_data[['song_id','artist_id','publish_time','song_init_plays','Language','Gender']]\n",
    "    \n",
    "    return singer_data"
   ]
  },
  {
   "cell_type": "code",
   "execution_count": null,
   "metadata": {
    "collapsed": false
   },
   "outputs": [],
   "source": [
    "def data_ETL_user(data_info):\n",
    "    #grouper=pd.TimeGrouper(\"1D\")\n",
    "    \n",
    "    category_user = data_info[data_info['action_type'] == 1]\n",
    "        \n",
    "    res_data = category_user.groupby(['Ds','song_id']).count()[['gmt_create']]    \n",
    "    \n",
    "    res_data=res_data.unstack().fillna(value=0).T.reset_index().groupby(['song_id']).sum()\n",
    "    \n",
    "    return res_data\n",
    "\n",
    "def data_ETL_singer(data_info):\n",
    "    \n",
    "        \n",
    "    #groupby_id=sales_info.groupby('item_id')\n",
    "    #groupby_id.size()\n",
    "    #total_nums=groupby_id.sum()\n",
    "    #total_nums.sort_values(by='num_alipay_njhs').tail()[['num_alipay_njhs']]\n",
    "    \n",
    "    #grouper=pd.TimeGrouper(\"14D\")\n",
    "    category_data=data_info.groupby(['artist_id'])\n",
    "    \n",
    "    #res_data=category_sum.unstack().fillna(value=0)\n",
    "    #res_data[res_data<1]=0\n",
    "    #res_data.apply(np.floor)\n",
    "    return category_data"
   ]
  },
  {
   "cell_type": "code",
   "execution_count": null,
   "metadata": {
    "collapsed": false
   },
   "outputs": [],
   "source": [
    "def predict_next(item_no,src_data):\n",
    "    \n",
    "    df_src = src_data.iloc[:,item_no]\n",
    "    \n",
    "    df=np.log(df_src+1)\n",
    "\n",
    "    df_diff1=df-df.shift(1)\n",
    "    df_diff2=df_diff1.dropna()\n",
    "\n",
    "\n",
    "    pred_mean = df_diff2.mean()\n",
    "    pred_std = df_diff2.std()\n",
    "    \n",
    "    pred_values=np.random.normal(pred_mean,pred_std,61)\n",
    "\n",
    "    \n",
    "    res_pow  = pred_values+df.mean()\n",
    "    \n",
    "    # Another way to caculate the values!\n",
    "    #st_values=df[-1]\n",
    "    #res_pow2 = res_pow.copy() \n",
    "    #for i in range(0,61):\n",
    "    #    res_pow2[i] = pred_values[i] + st_values\n",
    "    #    st_values = res_pow2[i]    \n",
    "\n",
    "    pred_df_values = np.floor(np.exp(res_pow)-1)\n",
    "    \n",
    "    hist_df = pd.DataFrame(np.floor(df_src.values),columns=[df_res.columns[item_no]],index=pd.date_range('20150301',periods=183))\n",
    "\n",
    "    pred_df = pd.DataFrame(pred_df_values,columns=[df_res.columns[item_no]],index=pd.date_range('20150901',periods=61))\n",
    "\n",
    "    pred_all_df = hist_df.append(pred_df)\n",
    "    \n",
    "    #调整时间格式以及列顺序\n",
    "    pred_all_df.index=pred_all_df.index.strftime('%Y%m%d')\n",
    "    \n",
    "    predict_res=pred_all_df.stack().reset_index()\n",
    "    \n",
    "    predict_res.columns=['Ds','artist_id','plays']\n",
    "    \n",
    "    predict_res['Ds1']=predict_res['Ds']\n",
    "\n",
    "    predict_res=predict_res.iloc[:,1:4]\n",
    "        \n",
    "    return predict_res\n"
   ]
  },
  {
   "cell_type": "code",
   "execution_count": null,
   "metadata": {
    "collapsed": false
   },
   "outputs": [],
   "source": [
    "csv_dat=read_user_data()"
   ]
  },
  {
   "cell_type": "code",
   "execution_count": null,
   "metadata": {
    "collapsed": false
   },
   "outputs": [],
   "source": [
    "res_dat=data_ETL_user(csv_dat)\n",
    "\n",
    "csv_singer=read_singer_data()\n",
    "\n",
    "csv_singer=csv_singer[['artist_id','song_init_plays']]\n",
    "\n",
    "temp_dat=csv_singer.join(res_dat,how='inner')\n",
    "\n",
    "temp_dat=temp_dat.reset_index()\n",
    "\n",
    "init_plays=temp_dat[['song_id','song_init_plays']]\n",
    "\n",
    "temp_res=temp_dat.groupby(['artist_id']).sum()\n",
    "\n",
    "temp_res=temp_res.iloc[:,1:].T"
   ]
  },
  {
   "cell_type": "code",
   "execution_count": null,
   "metadata": {
    "collapsed": false
   },
   "outputs": [],
   "source": [
    "df_res = pd.DataFrame(temp_res.values, columns=temp_res.columns,index=pd.date_range('20150301',periods=183))"
   ]
  },
  {
   "cell_type": "code",
   "execution_count": null,
   "metadata": {
    "collapsed": false,
    "scrolled": false
   },
   "outputs": [],
   "source": [
    "#df_res.plot(figsize=(16, 7),legend=None)"
   ]
  },
  {
   "cell_type": "code",
   "execution_count": null,
   "metadata": {
    "collapsed": false
   },
   "outputs": [],
   "source": [
    "pred_all=predict_next(0,df_res)\n",
    "\n",
    "for iCount in range(1,50):\n",
    "    predict_df = predict_next(iCount,df_res)\n",
    "    \n",
    "    pred_all = pred_all.append(predict_df)\n",
    "\n",
    "pred_all.to_csv(\"g:\\\\music_predict_01.csv\",header=False,index=False)    "
   ]
  },
  {
   "cell_type": "code",
   "execution_count": null,
   "metadata": {
    "collapsed": true
   },
   "outputs": [],
   "source": [
    "def select_store_dat(index_code,info_dat):\n",
    "    \n",
    "    query_snt=\"store_code==%d\"%index_code\n",
    "    \n",
    "    return info_dat.query(query_snt).reset_index(level=1,drop=True)"
   ]
  },
  {
   "cell_type": "code",
   "execution_count": null,
   "metadata": {
    "collapsed": false
   },
   "outputs": [],
   "source": [
    "#plot([Bar(x=res_tg.index, y=res_tg.target),Bar(x=res_tg.index, y=res_tg.qty_alipay_njhs)])"
   ]
  },
  {
   "cell_type": "code",
   "execution_count": null,
   "metadata": {
    "collapsed": false
   },
   "outputs": [],
   "source": [
    "#验证销量预测是否服从指数衰减，或者长尾定律\n",
    "#res_tg[['target','qty_alipay_njhs']].iloc[:,0:1].sort_values(by='target',ascending=False).reset_index(drop=True).plot(title=\"\",figsize=(12, 7))"
   ]
  }
 ],
 "metadata": {
  "kernelspec": {
   "display_name": "Python 2",
   "language": "python",
   "name": "python2"
  },
  "language_info": {
   "codemirror_mode": {
    "name": "ipython",
    "version": 2
   },
   "file_extension": ".py",
   "mimetype": "text/x-python",
   "name": "python",
   "nbconvert_exporter": "python",
   "pygments_lexer": "ipython2",
   "version": "2.7.11"
  }
 },
 "nbformat": 4,
 "nbformat_minor": 0
}
